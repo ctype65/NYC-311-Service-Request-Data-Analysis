{
 "cells": [
  {
   "cell_type": "markdown",
   "metadata": {},
   "source": [
    "# Project NYC Dataset 311"
   ]
  },
  {
   "cell_type": "markdown",
   "metadata": {},
   "source": [
    "NYC 311's mission is to provide the public with quick and easy access to all New York City government services and information while offering the best customer service."
   ]
  },
  {
   "cell_type": "markdown",
   "metadata": {},
   "source": [
    "# Objective\n",
    "\n",
    "- Get major insights/patterns in a visual format (graphs or tables).\n",
    "- Perform some statistical operation\n",
    "    1.Whether the average response time across complaint types is similar or not (overall)\n",
    "    2.Are the type of complaint or service requested and location related?"
   ]
  },
  {
   "cell_type": "code",
   "execution_count": 1,
   "metadata": {},
   "outputs": [],
   "source": [
    "import numpy as np\n",
    "import pandas as pd\n",
    "import seaborn as sns\n",
    "import matplotlib.pyplot as plt\n",
    "%matplotlib inline"
   ]
  },
  {
   "cell_type": "code",
   "execution_count": 2,
   "metadata": {},
   "outputs": [
    {
     "name": "stderr",
     "output_type": "stream",
     "text": [
      "C:\\Users\\Rohit\\anaconda3\\lib\\site-packages\\IPython\\core\\interactiveshell.py:3063: DtypeWarning: Columns (48,49) have mixed types.Specify dtype option on import or set low_memory=False.\n",
      "  interactivity=interactivity, compiler=compiler, result=result)\n"
     ]
    }
   ],
   "source": [
    "# Importing NYC Dataset\n",
    "df = pd.read_csv(\"311_Service_Requests_from_2010_to_Present.csv\", index_col='Unique Key')"
   ]
  },
  {
   "cell_type": "code",
   "execution_count": 3,
   "metadata": {},
   "outputs": [],
   "source": [
    "# Converting dataset to dataframe\n",
    "df = pd.DataFrame(df)"
   ]
  },
  {
   "cell_type": "code",
   "execution_count": 4,
   "metadata": {},
   "outputs": [
    {
     "data": {
      "text/html": [
       "<div>\n",
       "<style scoped>\n",
       "    .dataframe tbody tr th:only-of-type {\n",
       "        vertical-align: middle;\n",
       "    }\n",
       "\n",
       "    .dataframe tbody tr th {\n",
       "        vertical-align: top;\n",
       "    }\n",
       "\n",
       "    .dataframe thead th {\n",
       "        text-align: right;\n",
       "    }\n",
       "</style>\n",
       "<table border=\"1\" class=\"dataframe\">\n",
       "  <thead>\n",
       "    <tr style=\"text-align: right;\">\n",
       "      <th></th>\n",
       "      <th>Created Date</th>\n",
       "      <th>Closed Date</th>\n",
       "      <th>Agency</th>\n",
       "      <th>Agency Name</th>\n",
       "      <th>Complaint Type</th>\n",
       "      <th>Descriptor</th>\n",
       "      <th>Location Type</th>\n",
       "      <th>Incident Zip</th>\n",
       "      <th>Incident Address</th>\n",
       "      <th>Street Name</th>\n",
       "      <th>...</th>\n",
       "      <th>Bridge Highway Name</th>\n",
       "      <th>Bridge Highway Direction</th>\n",
       "      <th>Road Ramp</th>\n",
       "      <th>Bridge Highway Segment</th>\n",
       "      <th>Garage Lot Name</th>\n",
       "      <th>Ferry Direction</th>\n",
       "      <th>Ferry Terminal Name</th>\n",
       "      <th>Latitude</th>\n",
       "      <th>Longitude</th>\n",
       "      <th>Location</th>\n",
       "    </tr>\n",
       "    <tr>\n",
       "      <th>Unique Key</th>\n",
       "      <th></th>\n",
       "      <th></th>\n",
       "      <th></th>\n",
       "      <th></th>\n",
       "      <th></th>\n",
       "      <th></th>\n",
       "      <th></th>\n",
       "      <th></th>\n",
       "      <th></th>\n",
       "      <th></th>\n",
       "      <th></th>\n",
       "      <th></th>\n",
       "      <th></th>\n",
       "      <th></th>\n",
       "      <th></th>\n",
       "      <th></th>\n",
       "      <th></th>\n",
       "      <th></th>\n",
       "      <th></th>\n",
       "      <th></th>\n",
       "      <th></th>\n",
       "    </tr>\n",
       "  </thead>\n",
       "  <tbody>\n",
       "    <tr>\n",
       "      <th>32310363</th>\n",
       "      <td>12/31/2015 11:59:45 PM</td>\n",
       "      <td>01-01-16 0:55</td>\n",
       "      <td>NYPD</td>\n",
       "      <td>New York City Police Department</td>\n",
       "      <td>Noise - Street/Sidewalk</td>\n",
       "      <td>Loud Music/Party</td>\n",
       "      <td>Street/Sidewalk</td>\n",
       "      <td>10034.0</td>\n",
       "      <td>71 VERMILYEA AVENUE</td>\n",
       "      <td>VERMILYEA AVENUE</td>\n",
       "      <td>...</td>\n",
       "      <td>NaN</td>\n",
       "      <td>NaN</td>\n",
       "      <td>NaN</td>\n",
       "      <td>NaN</td>\n",
       "      <td>NaN</td>\n",
       "      <td>NaN</td>\n",
       "      <td>NaN</td>\n",
       "      <td>40.865682</td>\n",
       "      <td>-73.923501</td>\n",
       "      <td>(40.86568153633767, -73.92350095571744)</td>\n",
       "    </tr>\n",
       "    <tr>\n",
       "      <th>32309934</th>\n",
       "      <td>12/31/2015 11:59:44 PM</td>\n",
       "      <td>01-01-16 1:26</td>\n",
       "      <td>NYPD</td>\n",
       "      <td>New York City Police Department</td>\n",
       "      <td>Blocked Driveway</td>\n",
       "      <td>No Access</td>\n",
       "      <td>Street/Sidewalk</td>\n",
       "      <td>11105.0</td>\n",
       "      <td>27-07 23 AVENUE</td>\n",
       "      <td>23 AVENUE</td>\n",
       "      <td>...</td>\n",
       "      <td>NaN</td>\n",
       "      <td>NaN</td>\n",
       "      <td>NaN</td>\n",
       "      <td>NaN</td>\n",
       "      <td>NaN</td>\n",
       "      <td>NaN</td>\n",
       "      <td>NaN</td>\n",
       "      <td>40.775945</td>\n",
       "      <td>-73.915094</td>\n",
       "      <td>(40.775945312321085, -73.91509393898605)</td>\n",
       "    </tr>\n",
       "    <tr>\n",
       "      <th>32309159</th>\n",
       "      <td>12/31/2015 11:59:29 PM</td>\n",
       "      <td>01-01-16 4:51</td>\n",
       "      <td>NYPD</td>\n",
       "      <td>New York City Police Department</td>\n",
       "      <td>Blocked Driveway</td>\n",
       "      <td>No Access</td>\n",
       "      <td>Street/Sidewalk</td>\n",
       "      <td>10458.0</td>\n",
       "      <td>2897 VALENTINE AVENUE</td>\n",
       "      <td>VALENTINE AVENUE</td>\n",
       "      <td>...</td>\n",
       "      <td>NaN</td>\n",
       "      <td>NaN</td>\n",
       "      <td>NaN</td>\n",
       "      <td>NaN</td>\n",
       "      <td>NaN</td>\n",
       "      <td>NaN</td>\n",
       "      <td>NaN</td>\n",
       "      <td>40.870325</td>\n",
       "      <td>-73.888525</td>\n",
       "      <td>(40.870324522111424, -73.88852464418646)</td>\n",
       "    </tr>\n",
       "    <tr>\n",
       "      <th>32305098</th>\n",
       "      <td>12/31/2015 11:57:46 PM</td>\n",
       "      <td>01-01-16 7:43</td>\n",
       "      <td>NYPD</td>\n",
       "      <td>New York City Police Department</td>\n",
       "      <td>Illegal Parking</td>\n",
       "      <td>Commercial Overnight Parking</td>\n",
       "      <td>Street/Sidewalk</td>\n",
       "      <td>10461.0</td>\n",
       "      <td>2940 BAISLEY AVENUE</td>\n",
       "      <td>BAISLEY AVENUE</td>\n",
       "      <td>...</td>\n",
       "      <td>NaN</td>\n",
       "      <td>NaN</td>\n",
       "      <td>NaN</td>\n",
       "      <td>NaN</td>\n",
       "      <td>NaN</td>\n",
       "      <td>NaN</td>\n",
       "      <td>NaN</td>\n",
       "      <td>40.835994</td>\n",
       "      <td>-73.828379</td>\n",
       "      <td>(40.83599404683083, -73.82837939584206)</td>\n",
       "    </tr>\n",
       "    <tr>\n",
       "      <th>32306529</th>\n",
       "      <td>12/31/2015 11:56:58 PM</td>\n",
       "      <td>01-01-16 3:24</td>\n",
       "      <td>NYPD</td>\n",
       "      <td>New York City Police Department</td>\n",
       "      <td>Illegal Parking</td>\n",
       "      <td>Blocked Sidewalk</td>\n",
       "      <td>Street/Sidewalk</td>\n",
       "      <td>11373.0</td>\n",
       "      <td>87-14 57 ROAD</td>\n",
       "      <td>57 ROAD</td>\n",
       "      <td>...</td>\n",
       "      <td>NaN</td>\n",
       "      <td>NaN</td>\n",
       "      <td>NaN</td>\n",
       "      <td>NaN</td>\n",
       "      <td>NaN</td>\n",
       "      <td>NaN</td>\n",
       "      <td>NaN</td>\n",
       "      <td>40.733060</td>\n",
       "      <td>-73.874170</td>\n",
       "      <td>(40.733059618956815, -73.87416975810375)</td>\n",
       "    </tr>\n",
       "  </tbody>\n",
       "</table>\n",
       "<p>5 rows × 52 columns</p>\n",
       "</div>"
      ],
      "text/plain": [
       "                      Created Date    Closed Date Agency  \\\n",
       "Unique Key                                                 \n",
       "32310363    12/31/2015 11:59:45 PM  01-01-16 0:55   NYPD   \n",
       "32309934    12/31/2015 11:59:44 PM  01-01-16 1:26   NYPD   \n",
       "32309159    12/31/2015 11:59:29 PM  01-01-16 4:51   NYPD   \n",
       "32305098    12/31/2015 11:57:46 PM  01-01-16 7:43   NYPD   \n",
       "32306529    12/31/2015 11:56:58 PM  01-01-16 3:24   NYPD   \n",
       "\n",
       "                                Agency Name           Complaint Type  \\\n",
       "Unique Key                                                             \n",
       "32310363    New York City Police Department  Noise - Street/Sidewalk   \n",
       "32309934    New York City Police Department         Blocked Driveway   \n",
       "32309159    New York City Police Department         Blocked Driveway   \n",
       "32305098    New York City Police Department          Illegal Parking   \n",
       "32306529    New York City Police Department          Illegal Parking   \n",
       "\n",
       "                              Descriptor    Location Type  Incident Zip  \\\n",
       "Unique Key                                                                \n",
       "32310363                Loud Music/Party  Street/Sidewalk       10034.0   \n",
       "32309934                       No Access  Street/Sidewalk       11105.0   \n",
       "32309159                       No Access  Street/Sidewalk       10458.0   \n",
       "32305098    Commercial Overnight Parking  Street/Sidewalk       10461.0   \n",
       "32306529                Blocked Sidewalk  Street/Sidewalk       11373.0   \n",
       "\n",
       "                 Incident Address       Street Name  ... Bridge Highway Name  \\\n",
       "Unique Key                                           ...                       \n",
       "32310363      71 VERMILYEA AVENUE  VERMILYEA AVENUE  ...                 NaN   \n",
       "32309934          27-07 23 AVENUE         23 AVENUE  ...                 NaN   \n",
       "32309159    2897 VALENTINE AVENUE  VALENTINE AVENUE  ...                 NaN   \n",
       "32305098      2940 BAISLEY AVENUE    BAISLEY AVENUE  ...                 NaN   \n",
       "32306529            87-14 57 ROAD           57 ROAD  ...                 NaN   \n",
       "\n",
       "           Bridge Highway Direction Road Ramp Bridge Highway Segment  \\\n",
       "Unique Key                                                             \n",
       "32310363                        NaN       NaN                    NaN   \n",
       "32309934                        NaN       NaN                    NaN   \n",
       "32309159                        NaN       NaN                    NaN   \n",
       "32305098                        NaN       NaN                    NaN   \n",
       "32306529                        NaN       NaN                    NaN   \n",
       "\n",
       "           Garage Lot Name Ferry Direction Ferry Terminal Name   Latitude  \\\n",
       "Unique Key                                                                  \n",
       "32310363               NaN             NaN                 NaN  40.865682   \n",
       "32309934               NaN             NaN                 NaN  40.775945   \n",
       "32309159               NaN             NaN                 NaN  40.870325   \n",
       "32305098               NaN             NaN                 NaN  40.835994   \n",
       "32306529               NaN             NaN                 NaN  40.733060   \n",
       "\n",
       "            Longitude                                  Location  \n",
       "Unique Key                                                       \n",
       "32310363   -73.923501   (40.86568153633767, -73.92350095571744)  \n",
       "32309934   -73.915094  (40.775945312321085, -73.91509393898605)  \n",
       "32309159   -73.888525  (40.870324522111424, -73.88852464418646)  \n",
       "32305098   -73.828379   (40.83599404683083, -73.82837939584206)  \n",
       "32306529   -73.874170  (40.733059618956815, -73.87416975810375)  \n",
       "\n",
       "[5 rows x 52 columns]"
      ]
     },
     "execution_count": 4,
     "metadata": {},
     "output_type": "execute_result"
    }
   ],
   "source": [
    "#View of top 5 rows of dataset\n",
    "df.head()"
   ]
  },
  {
   "cell_type": "code",
   "execution_count": 5,
   "metadata": {
    "scrolled": true
   },
   "outputs": [
    {
     "data": {
      "text/plain": [
       "Index(['Created Date', 'Closed Date', 'Agency', 'Agency Name',\n",
       "       'Complaint Type', 'Descriptor', 'Location Type', 'Incident Zip',\n",
       "       'Incident Address', 'Street Name', 'Cross Street 1', 'Cross Street 2',\n",
       "       'Intersection Street 1', 'Intersection Street 2', 'Address Type',\n",
       "       'City', 'Landmark', 'Facility Type', 'Status', 'Due Date',\n",
       "       'Resolution Description', 'Resolution Action Updated Date',\n",
       "       'Community Board', 'Borough', 'X Coordinate (State Plane)',\n",
       "       'Y Coordinate (State Plane)', 'Park Facility Name', 'Park Borough',\n",
       "       'School Name', 'School Number', 'School Region', 'School Code',\n",
       "       'School Phone Number', 'School Address', 'School City', 'School State',\n",
       "       'School Zip', 'School Not Found', 'School or Citywide Complaint',\n",
       "       'Vehicle Type', 'Taxi Company Borough', 'Taxi Pick Up Location',\n",
       "       'Bridge Highway Name', 'Bridge Highway Direction', 'Road Ramp',\n",
       "       'Bridge Highway Segment', 'Garage Lot Name', 'Ferry Direction',\n",
       "       'Ferry Terminal Name', 'Latitude', 'Longitude', 'Location'],\n",
       "      dtype='object')"
      ]
     },
     "execution_count": 5,
     "metadata": {},
     "output_type": "execute_result"
    }
   ],
   "source": [
    "# Columns Present in Dataset\n",
    "df.columns\n"
   ]
  },
  {
   "cell_type": "code",
   "execution_count": 6,
   "metadata": {},
   "outputs": [
    {
     "data": {
      "text/plain": [
       "(300698, 52)"
      ]
     },
     "execution_count": 6,
     "metadata": {},
     "output_type": "execute_result"
    }
   ],
   "source": [
    "# numbers of rows and column present in dataset\n",
    "df.shape"
   ]
  },
  {
   "cell_type": "code",
   "execution_count": 7,
   "metadata": {},
   "outputs": [
    {
     "name": "stdout",
     "output_type": "stream",
     "text": [
      "<class 'pandas.core.frame.DataFrame'>\n",
      "Int64Index: 300698 entries, 32310363 to 30281825\n",
      "Data columns (total 52 columns):\n",
      " #   Column                          Non-Null Count   Dtype  \n",
      "---  ------                          --------------   -----  \n",
      " 0   Created Date                    300698 non-null  object \n",
      " 1   Closed Date                     298534 non-null  object \n",
      " 2   Agency                          300698 non-null  object \n",
      " 3   Agency Name                     300698 non-null  object \n",
      " 4   Complaint Type                  300698 non-null  object \n",
      " 5   Descriptor                      294784 non-null  object \n",
      " 6   Location Type                   300567 non-null  object \n",
      " 7   Incident Zip                    298083 non-null  float64\n",
      " 8   Incident Address                256288 non-null  object \n",
      " 9   Street Name                     256288 non-null  object \n",
      " 10  Cross Street 1                  251419 non-null  object \n",
      " 11  Cross Street 2                  250919 non-null  object \n",
      " 12  Intersection Street 1           43858 non-null   object \n",
      " 13  Intersection Street 2           43362 non-null   object \n",
      " 14  Address Type                    297883 non-null  object \n",
      " 15  City                            298084 non-null  object \n",
      " 16  Landmark                        349 non-null     object \n",
      " 17  Facility Type                   298527 non-null  object \n",
      " 18  Status                          300698 non-null  object \n",
      " 19  Due Date                        300695 non-null  object \n",
      " 20  Resolution Description          300698 non-null  object \n",
      " 21  Resolution Action Updated Date  298511 non-null  object \n",
      " 22  Community Board                 300698 non-null  object \n",
      " 23  Borough                         300698 non-null  object \n",
      " 24  X Coordinate (State Plane)      297158 non-null  float64\n",
      " 25  Y Coordinate (State Plane)      297158 non-null  float64\n",
      " 26  Park Facility Name              300698 non-null  object \n",
      " 27  Park Borough                    300698 non-null  object \n",
      " 28  School Name                     300698 non-null  object \n",
      " 29  School Number                   300698 non-null  object \n",
      " 30  School Region                   300697 non-null  object \n",
      " 31  School Code                     300697 non-null  object \n",
      " 32  School Phone Number             300698 non-null  object \n",
      " 33  School Address                  300698 non-null  object \n",
      " 34  School City                     300698 non-null  object \n",
      " 35  School State                    300698 non-null  object \n",
      " 36  School Zip                      300697 non-null  object \n",
      " 37  School Not Found                300698 non-null  object \n",
      " 38  School or Citywide Complaint    0 non-null       float64\n",
      " 39  Vehicle Type                    0 non-null       float64\n",
      " 40  Taxi Company Borough            0 non-null       float64\n",
      " 41  Taxi Pick Up Location           0 non-null       float64\n",
      " 42  Bridge Highway Name             243 non-null     object \n",
      " 43  Bridge Highway Direction        243 non-null     object \n",
      " 44  Road Ramp                       213 non-null     object \n",
      " 45  Bridge Highway Segment          213 non-null     object \n",
      " 46  Garage Lot Name                 0 non-null       float64\n",
      " 47  Ferry Direction                 1 non-null       object \n",
      " 48  Ferry Terminal Name             2 non-null       object \n",
      " 49  Latitude                        297158 non-null  float64\n",
      " 50  Longitude                       297158 non-null  float64\n",
      " 51  Location                        297158 non-null  object \n",
      "dtypes: float64(10), object(42)\n",
      "memory usage: 121.6+ MB\n"
     ]
    }
   ],
   "source": [
    "df.info()"
   ]
  },
  {
   "cell_type": "markdown",
   "metadata": {},
   "source": [
    "# Data Pre-processing"
   ]
  },
  {
   "cell_type": "code",
   "execution_count": 8,
   "metadata": {},
   "outputs": [
    {
     "data": {
      "text/plain": [
       "Created Date                           0\n",
       "Closed Date                         2164\n",
       "Agency                                 0\n",
       "Agency Name                            0\n",
       "Complaint Type                         0\n",
       "Descriptor                          5914\n",
       "Location Type                        131\n",
       "Incident Zip                        2615\n",
       "Incident Address                   44410\n",
       "Street Name                        44410\n",
       "Cross Street 1                     49279\n",
       "Cross Street 2                     49779\n",
       "Intersection Street 1             256840\n",
       "Intersection Street 2             257336\n",
       "Address Type                        2815\n",
       "City                                2614\n",
       "Landmark                          300349\n",
       "Facility Type                       2171\n",
       "Status                                 0\n",
       "Due Date                               3\n",
       "Resolution Description                 0\n",
       "Resolution Action Updated Date      2187\n",
       "Community Board                        0\n",
       "Borough                                0\n",
       "X Coordinate (State Plane)          3540\n",
       "Y Coordinate (State Plane)          3540\n",
       "Park Facility Name                     0\n",
       "Park Borough                           0\n",
       "School Name                            0\n",
       "School Number                          0\n",
       "School Region                          1\n",
       "School Code                            1\n",
       "School Phone Number                    0\n",
       "School Address                         0\n",
       "School City                            0\n",
       "School State                           0\n",
       "School Zip                             1\n",
       "School Not Found                       0\n",
       "School or Citywide Complaint      300698\n",
       "Vehicle Type                      300698\n",
       "Taxi Company Borough              300698\n",
       "Taxi Pick Up Location             300698\n",
       "Bridge Highway Name               300455\n",
       "Bridge Highway Direction          300455\n",
       "Road Ramp                         300485\n",
       "Bridge Highway Segment            300485\n",
       "Garage Lot Name                   300698\n",
       "Ferry Direction                   300697\n",
       "Ferry Terminal Name               300696\n",
       "Latitude                            3540\n",
       "Longitude                           3540\n",
       "Location                            3540\n",
       "dtype: int64"
      ]
     },
     "execution_count": 8,
     "metadata": {},
     "output_type": "execute_result"
    }
   ],
   "source": [
    "# Chechking if there is any null value present in dataset\n",
    "df.isnull().sum()"
   ]
  },
  {
   "cell_type": "markdown",
   "metadata": {},
   "source": [
    "### Observations:\n",
    "1. There are lots of missing values in many columns,\n",
    "2. Closed Date contains missing value as the case status is open, so to analyze those rows needs to be dropped.\n",
    "3. We need to check for Duplicate values also."
   ]
  },
  {
   "cell_type": "code",
   "execution_count": 9,
   "metadata": {},
   "outputs": [],
   "source": [
    "# Creating new dataset to analyze without tampering with orignal dataset\n",
    "df_NYC_final= df[['Created Date','Closed Date','Complaint Type','Incident Zip','City','Status','Borough','Location']]\n"
   ]
  },
  {
   "cell_type": "code",
   "execution_count": 10,
   "metadata": {},
   "outputs": [
    {
     "data": {
      "text/html": [
       "<div>\n",
       "<style scoped>\n",
       "    .dataframe tbody tr th:only-of-type {\n",
       "        vertical-align: middle;\n",
       "    }\n",
       "\n",
       "    .dataframe tbody tr th {\n",
       "        vertical-align: top;\n",
       "    }\n",
       "\n",
       "    .dataframe thead th {\n",
       "        text-align: right;\n",
       "    }\n",
       "</style>\n",
       "<table border=\"1\" class=\"dataframe\">\n",
       "  <thead>\n",
       "    <tr style=\"text-align: right;\">\n",
       "      <th></th>\n",
       "      <th>Created Date</th>\n",
       "      <th>Closed Date</th>\n",
       "      <th>Complaint Type</th>\n",
       "      <th>Incident Zip</th>\n",
       "      <th>City</th>\n",
       "      <th>Status</th>\n",
       "      <th>Borough</th>\n",
       "      <th>Location</th>\n",
       "    </tr>\n",
       "    <tr>\n",
       "      <th>Unique Key</th>\n",
       "      <th></th>\n",
       "      <th></th>\n",
       "      <th></th>\n",
       "      <th></th>\n",
       "      <th></th>\n",
       "      <th></th>\n",
       "      <th></th>\n",
       "      <th></th>\n",
       "    </tr>\n",
       "  </thead>\n",
       "  <tbody>\n",
       "    <tr>\n",
       "      <th>32310363</th>\n",
       "      <td>12/31/2015 11:59:45 PM</td>\n",
       "      <td>01-01-16 0:55</td>\n",
       "      <td>Noise - Street/Sidewalk</td>\n",
       "      <td>10034.0</td>\n",
       "      <td>NEW YORK</td>\n",
       "      <td>Closed</td>\n",
       "      <td>MANHATTAN</td>\n",
       "      <td>(40.86568153633767, -73.92350095571744)</td>\n",
       "    </tr>\n",
       "    <tr>\n",
       "      <th>32309934</th>\n",
       "      <td>12/31/2015 11:59:44 PM</td>\n",
       "      <td>01-01-16 1:26</td>\n",
       "      <td>Blocked Driveway</td>\n",
       "      <td>11105.0</td>\n",
       "      <td>ASTORIA</td>\n",
       "      <td>Closed</td>\n",
       "      <td>QUEENS</td>\n",
       "      <td>(40.775945312321085, -73.91509393898605)</td>\n",
       "    </tr>\n",
       "    <tr>\n",
       "      <th>32309159</th>\n",
       "      <td>12/31/2015 11:59:29 PM</td>\n",
       "      <td>01-01-16 4:51</td>\n",
       "      <td>Blocked Driveway</td>\n",
       "      <td>10458.0</td>\n",
       "      <td>BRONX</td>\n",
       "      <td>Closed</td>\n",
       "      <td>BRONX</td>\n",
       "      <td>(40.870324522111424, -73.88852464418646)</td>\n",
       "    </tr>\n",
       "    <tr>\n",
       "      <th>32305098</th>\n",
       "      <td>12/31/2015 11:57:46 PM</td>\n",
       "      <td>01-01-16 7:43</td>\n",
       "      <td>Illegal Parking</td>\n",
       "      <td>10461.0</td>\n",
       "      <td>BRONX</td>\n",
       "      <td>Closed</td>\n",
       "      <td>BRONX</td>\n",
       "      <td>(40.83599404683083, -73.82837939584206)</td>\n",
       "    </tr>\n",
       "    <tr>\n",
       "      <th>32306529</th>\n",
       "      <td>12/31/2015 11:56:58 PM</td>\n",
       "      <td>01-01-16 3:24</td>\n",
       "      <td>Illegal Parking</td>\n",
       "      <td>11373.0</td>\n",
       "      <td>ELMHURST</td>\n",
       "      <td>Closed</td>\n",
       "      <td>QUEENS</td>\n",
       "      <td>(40.733059618956815, -73.87416975810375)</td>\n",
       "    </tr>\n",
       "    <tr>\n",
       "      <th>...</th>\n",
       "      <td>...</td>\n",
       "      <td>...</td>\n",
       "      <td>...</td>\n",
       "      <td>...</td>\n",
       "      <td>...</td>\n",
       "      <td>...</td>\n",
       "      <td>...</td>\n",
       "      <td>...</td>\n",
       "    </tr>\n",
       "    <tr>\n",
       "      <th>30281872</th>\n",
       "      <td>03/29/2015 12:33:41 AM</td>\n",
       "      <td>NaN</td>\n",
       "      <td>Noise - Commercial</td>\n",
       "      <td>NaN</td>\n",
       "      <td>NaN</td>\n",
       "      <td>Open</td>\n",
       "      <td>Unspecified</td>\n",
       "      <td>NaN</td>\n",
       "    </tr>\n",
       "    <tr>\n",
       "      <th>30281230</th>\n",
       "      <td>03/29/2015 12:33:28 AM</td>\n",
       "      <td>03/29/2015 02:33:59 AM</td>\n",
       "      <td>Blocked Driveway</td>\n",
       "      <td>11418.0</td>\n",
       "      <td>RICHMOND HILL</td>\n",
       "      <td>Closed</td>\n",
       "      <td>QUEENS</td>\n",
       "      <td>(40.69407728322387, -73.8460866160573)</td>\n",
       "    </tr>\n",
       "    <tr>\n",
       "      <th>30283424</th>\n",
       "      <td>03/29/2015 12:33:03 AM</td>\n",
       "      <td>03/29/2015 03:40:20 AM</td>\n",
       "      <td>Noise - Commercial</td>\n",
       "      <td>11206.0</td>\n",
       "      <td>BROOKLYN</td>\n",
       "      <td>Closed</td>\n",
       "      <td>BROOKLYN</td>\n",
       "      <td>(40.69959035300927, -73.94423377144169)</td>\n",
       "    </tr>\n",
       "    <tr>\n",
       "      <th>30280004</th>\n",
       "      <td>03/29/2015 12:33:02 AM</td>\n",
       "      <td>03/29/2015 04:38:35 AM</td>\n",
       "      <td>Noise - Commercial</td>\n",
       "      <td>10461.0</td>\n",
       "      <td>BRONX</td>\n",
       "      <td>Closed</td>\n",
       "      <td>BRONX</td>\n",
       "      <td>(40.8377075854206, -73.83458731019586)</td>\n",
       "    </tr>\n",
       "    <tr>\n",
       "      <th>30281825</th>\n",
       "      <td>03/29/2015 12:33:01 AM</td>\n",
       "      <td>03/29/2015 04:41:50 AM</td>\n",
       "      <td>Noise - Commercial</td>\n",
       "      <td>10036.0</td>\n",
       "      <td>NEW YORK</td>\n",
       "      <td>Closed</td>\n",
       "      <td>MANHATTAN</td>\n",
       "      <td>(40.76058322950115, -73.98592204392392)</td>\n",
       "    </tr>\n",
       "  </tbody>\n",
       "</table>\n",
       "<p>300698 rows × 8 columns</p>\n",
       "</div>"
      ],
      "text/plain": [
       "                      Created Date             Closed Date  \\\n",
       "Unique Key                                                   \n",
       "32310363    12/31/2015 11:59:45 PM           01-01-16 0:55   \n",
       "32309934    12/31/2015 11:59:44 PM           01-01-16 1:26   \n",
       "32309159    12/31/2015 11:59:29 PM           01-01-16 4:51   \n",
       "32305098    12/31/2015 11:57:46 PM           01-01-16 7:43   \n",
       "32306529    12/31/2015 11:56:58 PM           01-01-16 3:24   \n",
       "...                            ...                     ...   \n",
       "30281872    03/29/2015 12:33:41 AM                     NaN   \n",
       "30281230    03/29/2015 12:33:28 AM  03/29/2015 02:33:59 AM   \n",
       "30283424    03/29/2015 12:33:03 AM  03/29/2015 03:40:20 AM   \n",
       "30280004    03/29/2015 12:33:02 AM  03/29/2015 04:38:35 AM   \n",
       "30281825    03/29/2015 12:33:01 AM  03/29/2015 04:41:50 AM   \n",
       "\n",
       "                     Complaint Type  Incident Zip           City  Status  \\\n",
       "Unique Key                                                                 \n",
       "32310363    Noise - Street/Sidewalk       10034.0       NEW YORK  Closed   \n",
       "32309934           Blocked Driveway       11105.0        ASTORIA  Closed   \n",
       "32309159           Blocked Driveway       10458.0          BRONX  Closed   \n",
       "32305098            Illegal Parking       10461.0          BRONX  Closed   \n",
       "32306529            Illegal Parking       11373.0       ELMHURST  Closed   \n",
       "...                             ...           ...            ...     ...   \n",
       "30281872         Noise - Commercial           NaN            NaN    Open   \n",
       "30281230           Blocked Driveway       11418.0  RICHMOND HILL  Closed   \n",
       "30283424         Noise - Commercial       11206.0       BROOKLYN  Closed   \n",
       "30280004         Noise - Commercial       10461.0          BRONX  Closed   \n",
       "30281825         Noise - Commercial       10036.0       NEW YORK  Closed   \n",
       "\n",
       "                Borough                                  Location  \n",
       "Unique Key                                                         \n",
       "32310363      MANHATTAN   (40.86568153633767, -73.92350095571744)  \n",
       "32309934         QUEENS  (40.775945312321085, -73.91509393898605)  \n",
       "32309159          BRONX  (40.870324522111424, -73.88852464418646)  \n",
       "32305098          BRONX   (40.83599404683083, -73.82837939584206)  \n",
       "32306529         QUEENS  (40.733059618956815, -73.87416975810375)  \n",
       "...                 ...                                       ...  \n",
       "30281872    Unspecified                                       NaN  \n",
       "30281230         QUEENS    (40.69407728322387, -73.8460866160573)  \n",
       "30283424       BROOKLYN   (40.69959035300927, -73.94423377144169)  \n",
       "30280004          BRONX    (40.8377075854206, -73.83458731019586)  \n",
       "30281825      MANHATTAN   (40.76058322950115, -73.98592204392392)  \n",
       "\n",
       "[300698 rows x 8 columns]"
      ]
     },
     "execution_count": 10,
     "metadata": {},
     "output_type": "execute_result"
    }
   ],
   "source": [
    "df_NYC_final"
   ]
  },
  {
   "cell_type": "code",
   "execution_count": 11,
   "metadata": {},
   "outputs": [
    {
     "data": {
      "text/plain": [
       "Created Date         0\n",
       "Closed Date       2164\n",
       "Complaint Type       0\n",
       "Incident Zip      2615\n",
       "City              2614\n",
       "Status               0\n",
       "Borough              0\n",
       "Location          3540\n",
       "dtype: int64"
      ]
     },
     "execution_count": 11,
     "metadata": {},
     "output_type": "execute_result"
    }
   ],
   "source": [
    "df_NYC_final.isnull().sum()"
   ]
  },
  {
   "cell_type": "code",
   "execution_count": 12,
   "metadata": {},
   "outputs": [],
   "source": [
    "#dropping the NaN data as only 1% od data value is missing which is negligible.\n",
    "df_NYC_final=df_NYC_final.dropna()"
   ]
  },
  {
   "cell_type": "code",
   "execution_count": 13,
   "metadata": {},
   "outputs": [
    {
     "data": {
      "text/plain": [
       "Created Date      0\n",
       "Closed Date       0\n",
       "Complaint Type    0\n",
       "Incident Zip      0\n",
       "City              0\n",
       "Status            0\n",
       "Borough           0\n",
       "Location          0\n",
       "dtype: int64"
      ]
     },
     "execution_count": 13,
     "metadata": {},
     "output_type": "execute_result"
    }
   ],
   "source": [
    "df_NYC_final.isnull().sum()"
   ]
  },
  {
   "cell_type": "code",
   "execution_count": 14,
   "metadata": {},
   "outputs": [
    {
     "name": "stderr",
     "output_type": "stream",
     "text": [
      "C:\\Users\\Rohit\\anaconda3\\lib\\site-packages\\ipykernel_launcher.py:2: SettingWithCopyWarning: \n",
      "A value is trying to be set on a copy of a slice from a DataFrame.\n",
      "Try using .loc[row_indexer,col_indexer] = value instead\n",
      "\n",
      "See the caveats in the documentation: https://pandas.pydata.org/pandas-docs/stable/user_guide/indexing.html#returning-a-view-versus-a-copy\n",
      "  \n",
      "C:\\Users\\Rohit\\anaconda3\\lib\\site-packages\\ipykernel_launcher.py:3: SettingWithCopyWarning: \n",
      "A value is trying to be set on a copy of a slice from a DataFrame.\n",
      "Try using .loc[row_indexer,col_indexer] = value instead\n",
      "\n",
      "See the caveats in the documentation: https://pandas.pydata.org/pandas-docs/stable/user_guide/indexing.html#returning-a-view-versus-a-copy\n",
      "  This is separate from the ipykernel package so we can avoid doing imports until\n"
     ]
    }
   ],
   "source": [
    "# Converting Created Date and Closed Date to datetime datatype.\n",
    "df_NYC_final['Created Date']=df_NYC_final['Created Date'].astype('datetime64')\n",
    "df_NYC_final['Closed Date']=df_NYC_final['Closed Date'].astype('datetime64')"
   ]
  },
  {
   "cell_type": "code",
   "execution_count": 15,
   "metadata": {},
   "outputs": [
    {
     "name": "stderr",
     "output_type": "stream",
     "text": [
      "C:\\Users\\Rohit\\anaconda3\\lib\\site-packages\\ipykernel_launcher.py:1: SettingWithCopyWarning: \n",
      "A value is trying to be set on a copy of a slice from a DataFrame.\n",
      "Try using .loc[row_indexer,col_indexer] = value instead\n",
      "\n",
      "See the caveats in the documentation: https://pandas.pydata.org/pandas-docs/stable/user_guide/indexing.html#returning-a-view-versus-a-copy\n",
      "  \"\"\"Entry point for launching an IPython kernel.\n"
     ]
    }
   ],
   "source": [
    "df_NYC_final['month']= df_NYC_final['Closed Date'].dt.month_name()"
   ]
  },
  {
   "cell_type": "code",
   "execution_count": 16,
   "metadata": {},
   "outputs": [
    {
     "name": "stderr",
     "output_type": "stream",
     "text": [
      "C:\\Users\\Rohit\\anaconda3\\lib\\site-packages\\ipykernel_launcher.py:1: SettingWithCopyWarning: \n",
      "A value is trying to be set on a copy of a slice from a DataFrame.\n",
      "Try using .loc[row_indexer,col_indexer] = value instead\n",
      "\n",
      "See the caveats in the documentation: https://pandas.pydata.org/pandas-docs/stable/user_guide/indexing.html#returning-a-view-versus-a-copy\n",
      "  \"\"\"Entry point for launching an IPython kernel.\n"
     ]
    }
   ],
   "source": [
    "df_NYC_final['Request_closing_time']=df_NYC_final['Closed Date']-df_NYC_final['Created Date']"
   ]
  },
  {
   "cell_type": "code",
   "execution_count": 17,
   "metadata": {},
   "outputs": [
    {
     "data": {
      "text/plain": [
       "Timedelta('0 days 04:18:24.880168')"
      ]
     },
     "execution_count": 17,
     "metadata": {},
     "output_type": "execute_result"
    }
   ],
   "source": [
    "df_NYC_final['Request_closing_time'].mean()"
   ]
  },
  {
   "cell_type": "code",
   "execution_count": 18,
   "metadata": {},
   "outputs": [
    {
     "name": "stdout",
     "output_type": "stream",
     "text": [
      "<class 'pandas.core.frame.DataFrame'>\n",
      "Int64Index: 297058 entries, 32310363 to 30281825\n",
      "Data columns (total 10 columns):\n",
      " #   Column                Non-Null Count   Dtype          \n",
      "---  ------                --------------   -----          \n",
      " 0   Created Date          297058 non-null  datetime64[ns] \n",
      " 1   Closed Date           297058 non-null  datetime64[ns] \n",
      " 2   Complaint Type        297058 non-null  object         \n",
      " 3   Incident Zip          297058 non-null  float64        \n",
      " 4   City                  297058 non-null  object         \n",
      " 5   Status                297058 non-null  object         \n",
      " 6   Borough               297058 non-null  object         \n",
      " 7   Location              297058 non-null  object         \n",
      " 8   month                 297058 non-null  object         \n",
      " 9   Request_closing_time  297058 non-null  timedelta64[ns]\n",
      "dtypes: datetime64[ns](2), float64(1), object(6), timedelta64[ns](1)\n",
      "memory usage: 24.9+ MB\n"
     ]
    }
   ],
   "source": [
    "df_NYC_final.info()"
   ]
  },
  {
   "cell_type": "markdown",
   "metadata": {},
   "source": [
    "All the missing data has been cleaned now let's check for any duplicate row present in the dataset."
   ]
  },
  {
   "cell_type": "code",
   "execution_count": 19,
   "metadata": {},
   "outputs": [],
   "source": [
    "# Checking for any duplicate row\n",
    "duplicate=df_NYC_final[df_NYC_final.index.duplicated()]"
   ]
  },
  {
   "cell_type": "code",
   "execution_count": 20,
   "metadata": {},
   "outputs": [
    {
     "data": {
      "text/html": [
       "<div>\n",
       "<style scoped>\n",
       "    .dataframe tbody tr th:only-of-type {\n",
       "        vertical-align: middle;\n",
       "    }\n",
       "\n",
       "    .dataframe tbody tr th {\n",
       "        vertical-align: top;\n",
       "    }\n",
       "\n",
       "    .dataframe thead th {\n",
       "        text-align: right;\n",
       "    }\n",
       "</style>\n",
       "<table border=\"1\" class=\"dataframe\">\n",
       "  <thead>\n",
       "    <tr style=\"text-align: right;\">\n",
       "      <th></th>\n",
       "      <th>Created Date</th>\n",
       "      <th>Closed Date</th>\n",
       "      <th>Complaint Type</th>\n",
       "      <th>Incident Zip</th>\n",
       "      <th>City</th>\n",
       "      <th>Status</th>\n",
       "      <th>Borough</th>\n",
       "      <th>Location</th>\n",
       "      <th>month</th>\n",
       "      <th>Request_closing_time</th>\n",
       "    </tr>\n",
       "    <tr>\n",
       "      <th>Unique Key</th>\n",
       "      <th></th>\n",
       "      <th></th>\n",
       "      <th></th>\n",
       "      <th></th>\n",
       "      <th></th>\n",
       "      <th></th>\n",
       "      <th></th>\n",
       "      <th></th>\n",
       "      <th></th>\n",
       "      <th></th>\n",
       "    </tr>\n",
       "  </thead>\n",
       "  <tbody>\n",
       "  </tbody>\n",
       "</table>\n",
       "</div>"
      ],
      "text/plain": [
       "Empty DataFrame\n",
       "Columns: [Created Date, Closed Date, Complaint Type, Incident Zip, City, Status, Borough, Location, month, Request_closing_time]\n",
       "Index: []"
      ]
     },
     "execution_count": 20,
     "metadata": {},
     "output_type": "execute_result"
    }
   ],
   "source": [
    "duplicate"
   ]
  },
  {
   "cell_type": "markdown",
   "metadata": {},
   "source": [
    "The final dataset has no missing value and no duplicate rows. The dataset is cleaned and ready for exploratory data analysis."
   ]
  },
  {
   "cell_type": "markdown",
   "metadata": {},
   "source": [
    "## Exploratory Data Analysis"
   ]
  },
  {
   "cell_type": "markdown",
   "metadata": {},
   "source": [
    "### Let's check how many different types of complaint is being registered."
   ]
  },
  {
   "cell_type": "code",
   "execution_count": 21,
   "metadata": {},
   "outputs": [
    {
     "data": {
      "text/plain": [
       "Blocked Driveway             76713\n",
       "Illegal Parking              74056\n",
       "Noise - Street/Sidewalk      47756\n",
       "Noise - Commercial           35149\n",
       "Derelict Vehicle             17514\n",
       "Noise - Vehicle              16871\n",
       "Animal Abuse                  7747\n",
       "Traffic                       4471\n",
       "Homeless Encampment           4365\n",
       "Noise - Park                  3928\n",
       "Vending                       3775\n",
       "Drinking                      1271\n",
       "Noise - House of Worship       922\n",
       "Posting Advertisement          648\n",
       "Urinating in Public            592\n",
       "Bike/Roller/Skate Chronic      414\n",
       "Panhandling                    301\n",
       "Disorderly Youth               285\n",
       "Illegal Fireworks              163\n",
       "Graffiti                       113\n",
       "Squeegee                         4\n",
       "Name: Complaint Type, dtype: int64"
      ]
     },
     "execution_count": 21,
     "metadata": {},
     "output_type": "execute_result"
    }
   ],
   "source": [
    "df_NYC_final['Complaint Type'].value_counts()"
   ]
  },
  {
   "cell_type": "code",
   "execution_count": 22,
   "metadata": {},
   "outputs": [],
   "source": [
    "complaint=df_NYC_final['Complaint Type'].value_counts().index"
   ]
  },
  {
   "cell_type": "code",
   "execution_count": 23,
   "metadata": {},
   "outputs": [],
   "source": [
    "size=df_NYC_final['Complaint Type'].value_counts().values"
   ]
  },
  {
   "cell_type": "code",
   "execution_count": 24,
   "metadata": {},
   "outputs": [
    {
     "data": {
      "text/plain": [
       "Blocked Driveway             0.258242\n",
       "Illegal Parking              0.249298\n",
       "Noise - Street/Sidewalk      0.160763\n",
       "Noise - Commercial           0.118324\n",
       "Derelict Vehicle             0.058958\n",
       "Noise - Vehicle              0.056794\n",
       "Animal Abuse                 0.026079\n",
       "Traffic                      0.015051\n",
       "Homeless Encampment          0.014694\n",
       "Noise - Park                 0.013223\n",
       "Vending                      0.012708\n",
       "Drinking                     0.004279\n",
       "Noise - House of Worship     0.003104\n",
       "Posting Advertisement        0.002181\n",
       "Urinating in Public          0.001993\n",
       "Bike/Roller/Skate Chronic    0.001394\n",
       "Panhandling                  0.001013\n",
       "Disorderly Youth             0.000959\n",
       "Illegal Fireworks            0.000549\n",
       "Graffiti                     0.000380\n",
       "Squeegee                     0.000013\n",
       "Name: Complaint Type, dtype: float64"
      ]
     },
     "execution_count": 24,
     "metadata": {},
     "output_type": "execute_result"
    }
   ],
   "source": [
    "df_NYC_final['Complaint Type'].value_counts(normalize=True)"
   ]
  },
  {
   "cell_type": "markdown",
   "metadata": {},
   "source": [
    "### Visualize different types of complaint type using bar plot"
   ]
  },
  {
   "cell_type": "code",
   "execution_count": 25,
   "metadata": {},
   "outputs": [
    {
     "data": {
      "image/png": "[encoded data removed]",
      "text/plain": [
       "<Figure size 720x360 with 1 Axes>"
      ]
     },
     "metadata": {
      "needs_background": "light"
     },
     "output_type": "display_data"
    }
   ],
   "source": [
    "fig= plt.figure(figsize=(10,5))\n",
    "ax=fig.add_axes([0,0,1,1])\n",
    "ax.set_xlabel('Complaint Type', fontsize=15)\n",
    "ax.set_ylabel('Values', fontsize=15)\n",
    "ax.bar(complaint,size, width=0.5, color='b')\n",
    "plt.title('Complaint Types', fontsize=20)\n",
    "plt.xticks(rotation=45, ha='right')\n",
    "plt.show()"
   ]
  },
  {
   "cell_type": "markdown",
   "metadata": {},
   "source": [
    "### Observation:\n",
    "1. There are 21 different types of complaint type registered in NYPD.\n",
    "2. Top 5 complaint types are more frequent and comprises of major complaints in the area."
   ]
  },
  {
   "cell_type": "markdown",
   "metadata": {},
   "source": [
    "### Visualize the top 5 complaint type using Pie Chart"
   ]
  },
  {
   "cell_type": "code",
   "execution_count": 26,
   "metadata": {},
   "outputs": [
    {
     "data": {
      "image/png": "[encoded data removed]",
      "text/plain": [
       "<Figure size 576x360 with 1 Axes>"
      ]
     },
     "metadata": {},
     "output_type": "display_data"
    }
   ],
   "source": [
    "fig=plt.figure(figsize=(8,5))\n",
    "explode = (0.08, 0, 0, 0,0)  # only \"explode\" the 1st slice (i.e. 'Blocked Driveway')\n",
    "ax=fig.add_axes([0,0,1,1])\n",
    "ax.pie(size[:5], explode=explode, labels=complaint[:5], autopct='%1.2f%%',\n",
    "        shadow=True, startangle=90)\n",
    "ax.axis('equal')  # Equal aspect ratio ensures that pie is drawn as a circle.\n",
    "plt.title('Top 5 Complaint Type')\n",
    "plt.show()"
   ]
  },
  {
   "cell_type": "markdown",
   "metadata": {},
   "source": [
    "### Observation:\n",
    "There are 21 different types of complaint registered in NYPD and from the above it is seen that the top 5 complaint types are\n",
    "1. Blocked Driveway which consist of more than 25% of overall complaint.\n",
    "2. Illegal Parking is followed by Blocked Driveway.\n",
    "3. Noise - Street/Sidewalk which is 16%.\n",
    "4. Noise - Commercial.\n",
    "5. Derelict Vehicle.\n",
    "Top 5 Complaint types comprises of almost 85% of complaints."
   ]
  },
  {
   "cell_type": "markdown",
   "metadata": {},
   "source": [
    "### Complaint status Borough wise"
   ]
  },
  {
   "cell_type": "code",
   "execution_count": 27,
   "metadata": {},
   "outputs": [],
   "source": [
    "df_status=df_NYC_final.groupby(['Borough','Status']).size().unstack()"
   ]
  },
  {
   "cell_type": "code",
   "execution_count": 28,
   "metadata": {},
   "outputs": [
    {
     "data": {
      "text/html": [
       "<div>\n",
       "<style scoped>\n",
       "    .dataframe tbody tr th:only-of-type {\n",
       "        vertical-align: middle;\n",
       "    }\n",
       "\n",
       "    .dataframe tbody tr th {\n",
       "        vertical-align: top;\n",
       "    }\n",
       "\n",
       "    .dataframe thead th {\n",
       "        text-align: right;\n",
       "    }\n",
       "</style>\n",
       "<table border=\"1\" class=\"dataframe\">\n",
       "  <thead>\n",
       "    <tr style=\"text-align: right;\">\n",
       "      <th>Status</th>\n",
       "      <th>Assigned</th>\n",
       "      <th>Closed</th>\n",
       "      <th>Draft</th>\n",
       "      <th>Open</th>\n",
       "    </tr>\n",
       "    <tr>\n",
       "      <th>Borough</th>\n",
       "      <th></th>\n",
       "      <th></th>\n",
       "      <th></th>\n",
       "      <th></th>\n",
       "    </tr>\n",
       "  </thead>\n",
       "  <tbody>\n",
       "    <tr>\n",
       "      <th>BRONX</th>\n",
       "      <td>4.0</td>\n",
       "      <td>40582.0</td>\n",
       "      <td>NaN</td>\n",
       "      <td>3.0</td>\n",
       "    </tr>\n",
       "    <tr>\n",
       "      <th>BROOKLYN</th>\n",
       "      <td>12.0</td>\n",
       "      <td>98081.0</td>\n",
       "      <td>1.0</td>\n",
       "      <td>7.0</td>\n",
       "    </tr>\n",
       "    <tr>\n",
       "      <th>MANHATTAN</th>\n",
       "      <td>4.0</td>\n",
       "      <td>65467.0</td>\n",
       "      <td>NaN</td>\n",
       "      <td>7.0</td>\n",
       "    </tr>\n",
       "    <tr>\n",
       "      <th>QUEENS</th>\n",
       "      <td>6.0</td>\n",
       "      <td>80540.0</td>\n",
       "      <td>NaN</td>\n",
       "      <td>16.0</td>\n",
       "    </tr>\n",
       "    <tr>\n",
       "      <th>STATEN ISLAND</th>\n",
       "      <td>NaN</td>\n",
       "      <td>12325.0</td>\n",
       "      <td>NaN</td>\n",
       "      <td>3.0</td>\n",
       "    </tr>\n",
       "  </tbody>\n",
       "</table>\n",
       "</div>"
      ],
      "text/plain": [
       "Status         Assigned   Closed  Draft  Open\n",
       "Borough                                      \n",
       "BRONX               4.0  40582.0    NaN   3.0\n",
       "BROOKLYN           12.0  98081.0    1.0   7.0\n",
       "MANHATTAN           4.0  65467.0    NaN   7.0\n",
       "QUEENS              6.0  80540.0    NaN  16.0\n",
       "STATEN ISLAND       NaN  12325.0    NaN   3.0"
      ]
     },
     "execution_count": 28,
     "metadata": {},
     "output_type": "execute_result"
    }
   ],
   "source": [
    "df_status"
   ]
  },
  {
   "cell_type": "code",
   "execution_count": 29,
   "metadata": {},
   "outputs": [
    {
     "data": {
      "text/html": [
       "<div>\n",
       "<style scoped>\n",
       "    .dataframe tbody tr th:only-of-type {\n",
       "        vertical-align: middle;\n",
       "    }\n",
       "\n",
       "    .dataframe tbody tr th {\n",
       "        vertical-align: top;\n",
       "    }\n",
       "\n",
       "    .dataframe thead th {\n",
       "        text-align: right;\n",
       "    }\n",
       "</style>\n",
       "<table border=\"1\" class=\"dataframe\">\n",
       "  <thead>\n",
       "    <tr style=\"text-align: right;\">\n",
       "      <th>Status</th>\n",
       "      <th>Assigned</th>\n",
       "      <th>Closed</th>\n",
       "      <th>Draft</th>\n",
       "      <th>Open</th>\n",
       "    </tr>\n",
       "    <tr>\n",
       "      <th>Borough</th>\n",
       "      <th></th>\n",
       "      <th></th>\n",
       "      <th></th>\n",
       "      <th></th>\n",
       "    </tr>\n",
       "  </thead>\n",
       "  <tbody>\n",
       "    <tr>\n",
       "      <th>BRONX</th>\n",
       "      <td>4.0</td>\n",
       "      <td>40582.0</td>\n",
       "      <td>0.0</td>\n",
       "      <td>3.0</td>\n",
       "    </tr>\n",
       "    <tr>\n",
       "      <th>BROOKLYN</th>\n",
       "      <td>12.0</td>\n",
       "      <td>98081.0</td>\n",
       "      <td>1.0</td>\n",
       "      <td>7.0</td>\n",
       "    </tr>\n",
       "    <tr>\n",
       "      <th>MANHATTAN</th>\n",
       "      <td>4.0</td>\n",
       "      <td>65467.0</td>\n",
       "      <td>0.0</td>\n",
       "      <td>7.0</td>\n",
       "    </tr>\n",
       "    <tr>\n",
       "      <th>QUEENS</th>\n",
       "      <td>6.0</td>\n",
       "      <td>80540.0</td>\n",
       "      <td>0.0</td>\n",
       "      <td>16.0</td>\n",
       "    </tr>\n",
       "    <tr>\n",
       "      <th>STATEN ISLAND</th>\n",
       "      <td>0.0</td>\n",
       "      <td>12325.0</td>\n",
       "      <td>0.0</td>\n",
       "      <td>3.0</td>\n",
       "    </tr>\n",
       "  </tbody>\n",
       "</table>\n",
       "</div>"
      ],
      "text/plain": [
       "Status         Assigned   Closed  Draft  Open\n",
       "Borough                                      \n",
       "BRONX               4.0  40582.0    0.0   3.0\n",
       "BROOKLYN           12.0  98081.0    1.0   7.0\n",
       "MANHATTAN           4.0  65467.0    0.0   7.0\n",
       "QUEENS              6.0  80540.0    0.0  16.0\n",
       "STATEN ISLAND       0.0  12325.0    0.0   3.0"
      ]
     },
     "execution_count": 29,
     "metadata": {},
     "output_type": "execute_result"
    }
   ],
   "source": [
    "# Replacing NaN value to 0.0 to analyze the data.\n",
    "df_status.fillna(0.0, inplace=True)\n",
    "df_status"
   ]
  },
  {
   "cell_type": "markdown",
   "metadata": {},
   "source": [
    "### Visualizing complaint status through different borough"
   ]
  },
  {
   "cell_type": "code",
   "execution_count": 30,
   "metadata": {},
   "outputs": [
    {
     "data": {
      "image/png": "[encoded data removed]",
      "text/plain": [
       "<Figure size 432x288 with 2 Axes>"
      ]
     },
     "metadata": {
      "needs_background": "light"
     },
     "output_type": "display_data"
    }
   ],
   "source": [
    "#create heatmap for different complaint in different borough\n",
    "sns.heatmap(df_status,annot=True,fmt='0.2f')\n",
    "plt.show()"
   ]
  },
  {
   "cell_type": "markdown",
   "metadata": {},
   "source": [
    "Most of the cases been closed in all the borough but Brooklyn has one case in draft and few has open and assigned cases."
   ]
  },
  {
   "cell_type": "markdown",
   "metadata": {},
   "source": [
    "### Top 10 Cities with most complaints"
   ]
  },
  {
   "cell_type": "code",
   "execution_count": 31,
   "metadata": {},
   "outputs": [
    {
     "data": {
      "image/png": "[encoded data removed]",
      "text/plain": [
       "<Figure size 648x504 with 1 Axes>"
      ]
     },
     "metadata": {
      "needs_background": "light"
     },
     "output_type": "display_data"
    }
   ],
   "source": [
    "df_NYC_final['City'].value_counts().head(10).plot(kind='bar',figsize=(9,7), width=0.5,color='orange')\n",
    "plt.xlabel('Cities', fontsize=15)\n",
    "plt.ylabel('Value', fontsize=15)\n",
    "plt.title('Top 10 Cities with most complaints', fontsize=20)\n",
    "plt.show()"
   ]
  },
  {
   "cell_type": "markdown",
   "metadata": {},
   "source": [
    "### Observation:\n",
    "We can see top 10 cities with most number of complaints out of which top 5 are Brooklyn, which comes first followed by New York, Bronx, Staten Island and Jamaica."
   ]
  },
  {
   "cell_type": "markdown",
   "metadata": {},
   "source": [
    "### Visualizing count of different complaint type over Borough"
   ]
  },
  {
   "cell_type": "code",
   "execution_count": 32,
   "metadata": {},
   "outputs": [
    {
     "data": {
      "text/html": [
       "<div>\n",
       "<style scoped>\n",
       "    .dataframe tbody tr th:only-of-type {\n",
       "        vertical-align: middle;\n",
       "    }\n",
       "\n",
       "    .dataframe tbody tr th {\n",
       "        vertical-align: top;\n",
       "    }\n",
       "\n",
       "    .dataframe thead th {\n",
       "        text-align: right;\n",
       "    }\n",
       "</style>\n",
       "<table border=\"1\" class=\"dataframe\">\n",
       "  <thead>\n",
       "    <tr style=\"text-align: right;\">\n",
       "      <th>Complaint Type</th>\n",
       "      <th>Animal Abuse</th>\n",
       "      <th>Bike/Roller/Skate Chronic</th>\n",
       "      <th>Blocked Driveway</th>\n",
       "      <th>Derelict Vehicle</th>\n",
       "      <th>Disorderly Youth</th>\n",
       "      <th>Drinking</th>\n",
       "      <th>Graffiti</th>\n",
       "      <th>Homeless Encampment</th>\n",
       "      <th>Illegal Fireworks</th>\n",
       "      <th>Illegal Parking</th>\n",
       "      <th>...</th>\n",
       "      <th>Noise - House of Worship</th>\n",
       "      <th>Noise - Park</th>\n",
       "      <th>Noise - Street/Sidewalk</th>\n",
       "      <th>Noise - Vehicle</th>\n",
       "      <th>Panhandling</th>\n",
       "      <th>Posting Advertisement</th>\n",
       "      <th>Squeegee</th>\n",
       "      <th>Traffic</th>\n",
       "      <th>Urinating in Public</th>\n",
       "      <th>Vending</th>\n",
       "    </tr>\n",
       "    <tr>\n",
       "      <th>Borough</th>\n",
       "      <th></th>\n",
       "      <th></th>\n",
       "      <th></th>\n",
       "      <th></th>\n",
       "      <th></th>\n",
       "      <th></th>\n",
       "      <th></th>\n",
       "      <th></th>\n",
       "      <th></th>\n",
       "      <th></th>\n",
       "      <th></th>\n",
       "      <th></th>\n",
       "      <th></th>\n",
       "      <th></th>\n",
       "      <th></th>\n",
       "      <th></th>\n",
       "      <th></th>\n",
       "      <th></th>\n",
       "      <th></th>\n",
       "      <th></th>\n",
       "      <th></th>\n",
       "    </tr>\n",
       "  </thead>\n",
       "  <tbody>\n",
       "    <tr>\n",
       "      <th>BRONX</th>\n",
       "      <td>1413.0</td>\n",
       "      <td>20.0</td>\n",
       "      <td>12744.0</td>\n",
       "      <td>1949.0</td>\n",
       "      <td>63.0</td>\n",
       "      <td>188.0</td>\n",
       "      <td>9.0</td>\n",
       "      <td>245.0</td>\n",
       "      <td>24.0</td>\n",
       "      <td>7833.0</td>\n",
       "      <td>...</td>\n",
       "      <td>79.0</td>\n",
       "      <td>522.0</td>\n",
       "      <td>8864.0</td>\n",
       "      <td>3386.0</td>\n",
       "      <td>19.0</td>\n",
       "      <td>17.0</td>\n",
       "      <td>NaN</td>\n",
       "      <td>355.0</td>\n",
       "      <td>51.0</td>\n",
       "      <td>377.0</td>\n",
       "    </tr>\n",
       "    <tr>\n",
       "      <th>BROOKLYN</th>\n",
       "      <td>2391.0</td>\n",
       "      <td>110.0</td>\n",
       "      <td>28136.0</td>\n",
       "      <td>5167.0</td>\n",
       "      <td>72.0</td>\n",
       "      <td>257.0</td>\n",
       "      <td>43.0</td>\n",
       "      <td>848.0</td>\n",
       "      <td>60.0</td>\n",
       "      <td>27401.0</td>\n",
       "      <td>...</td>\n",
       "      <td>338.0</td>\n",
       "      <td>1538.0</td>\n",
       "      <td>13316.0</td>\n",
       "      <td>5146.0</td>\n",
       "      <td>48.0</td>\n",
       "      <td>45.0</td>\n",
       "      <td>NaN</td>\n",
       "      <td>1082.0</td>\n",
       "      <td>136.0</td>\n",
       "      <td>515.0</td>\n",
       "    </tr>\n",
       "    <tr>\n",
       "      <th>MANHATTAN</th>\n",
       "      <td>1511.0</td>\n",
       "      <td>220.0</td>\n",
       "      <td>2056.0</td>\n",
       "      <td>530.0</td>\n",
       "      <td>68.0</td>\n",
       "      <td>294.0</td>\n",
       "      <td>22.0</td>\n",
       "      <td>2737.0</td>\n",
       "      <td>32.0</td>\n",
       "      <td>11983.0</td>\n",
       "      <td>...</td>\n",
       "      <td>189.0</td>\n",
       "      <td>1167.0</td>\n",
       "      <td>20364.0</td>\n",
       "      <td>5375.0</td>\n",
       "      <td>190.0</td>\n",
       "      <td>41.0</td>\n",
       "      <td>4.0</td>\n",
       "      <td>1534.0</td>\n",
       "      <td>251.0</td>\n",
       "      <td>2381.0</td>\n",
       "    </tr>\n",
       "    <tr>\n",
       "      <th>QUEENS</th>\n",
       "      <td>1875.0</td>\n",
       "      <td>58.0</td>\n",
       "      <td>31636.0</td>\n",
       "      <td>8104.0</td>\n",
       "      <td>59.0</td>\n",
       "      <td>357.0</td>\n",
       "      <td>37.0</td>\n",
       "      <td>464.0</td>\n",
       "      <td>37.0</td>\n",
       "      <td>21955.0</td>\n",
       "      <td>...</td>\n",
       "      <td>299.0</td>\n",
       "      <td>634.0</td>\n",
       "      <td>4397.0</td>\n",
       "      <td>2608.0</td>\n",
       "      <td>32.0</td>\n",
       "      <td>30.0</td>\n",
       "      <td>NaN</td>\n",
       "      <td>1303.0</td>\n",
       "      <td>140.0</td>\n",
       "      <td>477.0</td>\n",
       "    </tr>\n",
       "    <tr>\n",
       "      <th>STATEN ISLAND</th>\n",
       "      <td>557.0</td>\n",
       "      <td>6.0</td>\n",
       "      <td>2141.0</td>\n",
       "      <td>1764.0</td>\n",
       "      <td>23.0</td>\n",
       "      <td>175.0</td>\n",
       "      <td>2.0</td>\n",
       "      <td>71.0</td>\n",
       "      <td>10.0</td>\n",
       "      <td>4884.0</td>\n",
       "      <td>...</td>\n",
       "      <td>17.0</td>\n",
       "      <td>67.0</td>\n",
       "      <td>815.0</td>\n",
       "      <td>356.0</td>\n",
       "      <td>12.0</td>\n",
       "      <td>515.0</td>\n",
       "      <td>NaN</td>\n",
       "      <td>197.0</td>\n",
       "      <td>14.0</td>\n",
       "      <td>25.0</td>\n",
       "    </tr>\n",
       "  </tbody>\n",
       "</table>\n",
       "<p>5 rows × 21 columns</p>\n",
       "</div>"
      ],
      "text/plain": [
       "Complaint Type  Animal Abuse  Bike/Roller/Skate Chronic  Blocked Driveway  \\\n",
       "Borough                                                                     \n",
       "BRONX                 1413.0                       20.0           12744.0   \n",
       "BROOKLYN              2391.0                      110.0           28136.0   \n",
       "MANHATTAN             1511.0                      220.0            2056.0   \n",
       "QUEENS                1875.0                       58.0           31636.0   \n",
       "STATEN ISLAND          557.0                        6.0            2141.0   \n",
       "\n",
       "Complaint Type  Derelict Vehicle  Disorderly Youth  Drinking  Graffiti  \\\n",
       "Borough                                                                  \n",
       "BRONX                     1949.0              63.0     188.0       9.0   \n",
       "BROOKLYN                  5167.0              72.0     257.0      43.0   \n",
       "MANHATTAN                  530.0              68.0     294.0      22.0   \n",
       "QUEENS                    8104.0              59.0     357.0      37.0   \n",
       "STATEN ISLAND             1764.0              23.0     175.0       2.0   \n",
       "\n",
       "Complaint Type  Homeless Encampment  Illegal Fireworks  Illegal Parking  ...  \\\n",
       "Borough                                                                  ...   \n",
       "BRONX                         245.0               24.0           7833.0  ...   \n",
       "BROOKLYN                      848.0               60.0          27401.0  ...   \n",
       "MANHATTAN                    2737.0               32.0          11983.0  ...   \n",
       "QUEENS                        464.0               37.0          21955.0  ...   \n",
       "STATEN ISLAND                  71.0               10.0           4884.0  ...   \n",
       "\n",
       "Complaint Type  Noise - House of Worship  Noise - Park  \\\n",
       "Borough                                                  \n",
       "BRONX                               79.0         522.0   \n",
       "BROOKLYN                           338.0        1538.0   \n",
       "MANHATTAN                          189.0        1167.0   \n",
       "QUEENS                             299.0         634.0   \n",
       "STATEN ISLAND                       17.0          67.0   \n",
       "\n",
       "Complaint Type  Noise - Street/Sidewalk  Noise - Vehicle  Panhandling  \\\n",
       "Borough                                                                 \n",
       "BRONX                            8864.0           3386.0         19.0   \n",
       "BROOKLYN                        13316.0           5146.0         48.0   \n",
       "MANHATTAN                       20364.0           5375.0        190.0   \n",
       "QUEENS                           4397.0           2608.0         32.0   \n",
       "STATEN ISLAND                     815.0            356.0         12.0   \n",
       "\n",
       "Complaint Type  Posting Advertisement  Squeegee  Traffic  Urinating in Public  \\\n",
       "Borough                                                                         \n",
       "BRONX                            17.0       NaN    355.0                 51.0   \n",
       "BROOKLYN                         45.0       NaN   1082.0                136.0   \n",
       "MANHATTAN                        41.0       4.0   1534.0                251.0   \n",
       "QUEENS                           30.0       NaN   1303.0                140.0   \n",
       "STATEN ISLAND                   515.0       NaN    197.0                 14.0   \n",
       "\n",
       "Complaint Type  Vending  \n",
       "Borough                  \n",
       "BRONX             377.0  \n",
       "BROOKLYN          515.0  \n",
       "MANHATTAN        2381.0  \n",
       "QUEENS            477.0  \n",
       "STATEN ISLAND      25.0  \n",
       "\n",
       "[5 rows x 21 columns]"
      ]
     },
     "execution_count": 32,
     "metadata": {},
     "output_type": "execute_result"
    }
   ],
   "source": [
    "borough_comp=df_NYC_final.groupby(['Borough','Complaint Type']).size().unstack()\n",
    "borough_comp"
   ]
  },
  {
   "cell_type": "code",
   "execution_count": 33,
   "metadata": {},
   "outputs": [],
   "source": [
    "# Replacing Missing value with 0.0\n",
    "borough_comp.fillna(0.0, inplace=True)"
   ]
  },
  {
   "cell_type": "code",
   "execution_count": 34,
   "metadata": {},
   "outputs": [
    {
     "data": {
      "image/png": "[encoded data removed]",
      "text/plain": [
       "<Figure size 1080x576 with 1 Axes>"
      ]
     },
     "metadata": {
      "needs_background": "light"
     },
     "output_type": "display_data"
    }
   ],
   "source": [
    "# ploting stacked bar plot for different complauint type over borough\n",
    "borough_comp.plot(kind='bar', figsize=(15,8),stacked=True)\n",
    "plt.xlabel('Borough',fontsize=15)\n",
    "plt.ylabel('Value',fontsize=15)\n",
    "plt.title('Complaint count over Borough', fontsize=20)\n",
    "plt.xticks(rotation=360, ha='right')\n",
    "plt.show()"
   ]
  },
  {
   "cell_type": "markdown",
   "metadata": {},
   "source": [
    "All the different complaint types are plotted over borough and we can understand :\n",
    "1. Bronx has Blocked Driveway and illegal parking as two of the major complaints.\n",
    "2. Brooklyn has Blocked Driveway and illegal parking as two of the major complaints.\n",
    "3. Manhattan has Derelict Vehicle and Noise as two of the major complaints.\n",
    "4. Queens has Blocked Driveway and illegal parking as two of the major complaints.\n",
    "5. Staten Island has illegal parking as one of the major complaint.\n",
    "\n",
    "Blocked Driveway, illegal Parking, Noise are some major complaints over the borough."
   ]
  },
  {
   "cell_type": "markdown",
   "metadata": {},
   "source": [
    "### Visualize Complaint count over months."
   ]
  },
  {
   "cell_type": "code",
   "execution_count": 35,
   "metadata": {},
   "outputs": [],
   "source": [
    "df_month=df_NYC_final['month'].value_counts().reset_index()"
   ]
  },
  {
   "cell_type": "code",
   "execution_count": 36,
   "metadata": {},
   "outputs": [
    {
     "data": {
      "text/html": [
       "<div>\n",
       "<style scoped>\n",
       "    .dataframe tbody tr th:only-of-type {\n",
       "        vertical-align: middle;\n",
       "    }\n",
       "\n",
       "    .dataframe tbody tr th {\n",
       "        vertical-align: top;\n",
       "    }\n",
       "\n",
       "    .dataframe thead th {\n",
       "        text-align: right;\n",
       "    }\n",
       "</style>\n",
       "<table border=\"1\" class=\"dataframe\">\n",
       "  <thead>\n",
       "    <tr style=\"text-align: right;\">\n",
       "      <th></th>\n",
       "      <th>month</th>\n",
       "      <th>value</th>\n",
       "    </tr>\n",
       "  </thead>\n",
       "  <tbody>\n",
       "    <tr>\n",
       "      <th>0</th>\n",
       "      <td>May</td>\n",
       "      <td>35944</td>\n",
       "    </tr>\n",
       "    <tr>\n",
       "      <th>1</th>\n",
       "      <td>September</td>\n",
       "      <td>35012</td>\n",
       "    </tr>\n",
       "    <tr>\n",
       "      <th>2</th>\n",
       "      <td>June</td>\n",
       "      <td>34836</td>\n",
       "    </tr>\n",
       "    <tr>\n",
       "      <th>3</th>\n",
       "      <td>August</td>\n",
       "      <td>34582</td>\n",
       "    </tr>\n",
       "    <tr>\n",
       "      <th>4</th>\n",
       "      <td>July</td>\n",
       "      <td>34236</td>\n",
       "    </tr>\n",
       "    <tr>\n",
       "      <th>5</th>\n",
       "      <td>October</td>\n",
       "      <td>32222</td>\n",
       "    </tr>\n",
       "    <tr>\n",
       "      <th>6</th>\n",
       "      <td>November</td>\n",
       "      <td>30548</td>\n",
       "    </tr>\n",
       "    <tr>\n",
       "      <th>7</th>\n",
       "      <td>December</td>\n",
       "      <td>30324</td>\n",
       "    </tr>\n",
       "    <tr>\n",
       "      <th>8</th>\n",
       "      <td>April</td>\n",
       "      <td>26958</td>\n",
       "    </tr>\n",
       "    <tr>\n",
       "      <th>9</th>\n",
       "      <td>March</td>\n",
       "      <td>2273</td>\n",
       "    </tr>\n",
       "    <tr>\n",
       "      <th>10</th>\n",
       "      <td>January</td>\n",
       "      <td>123</td>\n",
       "    </tr>\n",
       "  </tbody>\n",
       "</table>\n",
       "</div>"
      ],
      "text/plain": [
       "        month  value\n",
       "0         May  35944\n",
       "1   September  35012\n",
       "2        June  34836\n",
       "3      August  34582\n",
       "4        July  34236\n",
       "5     October  32222\n",
       "6    November  30548\n",
       "7    December  30324\n",
       "8       April  26958\n",
       "9       March   2273\n",
       "10    January    123"
      ]
     },
     "execution_count": 36,
     "metadata": {},
     "output_type": "execute_result"
    }
   ],
   "source": [
    "df_month.rename(columns={'index':'month','month':'value'}, inplace=True)\n",
    "df_month"
   ]
  },
  {
   "cell_type": "code",
   "execution_count": 37,
   "metadata": {},
   "outputs": [],
   "source": [
    "sort_order=['January','February','March','April','May','June','July','August','September','October','November','December']\n",
    "df_month.index=pd.CategoricalIndex(df_month['month'], categories=sort_order, ordered=True)\n",
    "df_month=df_month.sort_index().reset_index(drop=True)"
   ]
  },
  {
   "cell_type": "code",
   "execution_count": 38,
   "metadata": {},
   "outputs": [
    {
     "data": {
      "text/html": [
       "<div>\n",
       "<style scoped>\n",
       "    .dataframe tbody tr th:only-of-type {\n",
       "        vertical-align: middle;\n",
       "    }\n",
       "\n",
       "    .dataframe tbody tr th {\n",
       "        vertical-align: top;\n",
       "    }\n",
       "\n",
       "    .dataframe thead th {\n",
       "        text-align: right;\n",
       "    }\n",
       "</style>\n",
       "<table border=\"1\" class=\"dataframe\">\n",
       "  <thead>\n",
       "    <tr style=\"text-align: right;\">\n",
       "      <th></th>\n",
       "      <th>month</th>\n",
       "      <th>value</th>\n",
       "    </tr>\n",
       "  </thead>\n",
       "  <tbody>\n",
       "    <tr>\n",
       "      <th>0</th>\n",
       "      <td>January</td>\n",
       "      <td>123</td>\n",
       "    </tr>\n",
       "    <tr>\n",
       "      <th>1</th>\n",
       "      <td>March</td>\n",
       "      <td>2273</td>\n",
       "    </tr>\n",
       "    <tr>\n",
       "      <th>2</th>\n",
       "      <td>April</td>\n",
       "      <td>26958</td>\n",
       "    </tr>\n",
       "    <tr>\n",
       "      <th>3</th>\n",
       "      <td>May</td>\n",
       "      <td>35944</td>\n",
       "    </tr>\n",
       "    <tr>\n",
       "      <th>4</th>\n",
       "      <td>June</td>\n",
       "      <td>34836</td>\n",
       "    </tr>\n",
       "    <tr>\n",
       "      <th>5</th>\n",
       "      <td>July</td>\n",
       "      <td>34236</td>\n",
       "    </tr>\n",
       "    <tr>\n",
       "      <th>6</th>\n",
       "      <td>August</td>\n",
       "      <td>34582</td>\n",
       "    </tr>\n",
       "    <tr>\n",
       "      <th>7</th>\n",
       "      <td>September</td>\n",
       "      <td>35012</td>\n",
       "    </tr>\n",
       "    <tr>\n",
       "      <th>8</th>\n",
       "      <td>October</td>\n",
       "      <td>32222</td>\n",
       "    </tr>\n",
       "    <tr>\n",
       "      <th>9</th>\n",
       "      <td>November</td>\n",
       "      <td>30548</td>\n",
       "    </tr>\n",
       "    <tr>\n",
       "      <th>10</th>\n",
       "      <td>December</td>\n",
       "      <td>30324</td>\n",
       "    </tr>\n",
       "  </tbody>\n",
       "</table>\n",
       "</div>"
      ],
      "text/plain": [
       "        month  value\n",
       "0     January    123\n",
       "1       March   2273\n",
       "2       April  26958\n",
       "3         May  35944\n",
       "4        June  34836\n",
       "5        July  34236\n",
       "6      August  34582\n",
       "7   September  35012\n",
       "8     October  32222\n",
       "9    November  30548\n",
       "10   December  30324"
      ]
     },
     "execution_count": 38,
     "metadata": {},
     "output_type": "execute_result"
    }
   ],
   "source": [
    "df_month"
   ]
  },
  {
   "cell_type": "code",
   "execution_count": 39,
   "metadata": {},
   "outputs": [
    {
     "data": {
      "image/png": "[encoded data removed]",
      "text/plain": [
       "<Figure size 576x288 with 1 Axes>"
      ]
     },
     "metadata": {
      "needs_background": "light"
     },
     "output_type": "display_data"
    }
   ],
   "source": [
    "fig=plt.figure(figsize=(8,4))\n",
    "ax=fig.add_axes([0,0,1,1])\n",
    "ax.set_xlabel('Month')\n",
    "ax.set_ylabel('Value')\n",
    "plt.title('Complaint count over months')\n",
    "ax.plot(df_month['month'],df_month['value'], color='c', linestyle='-.', marker='D',linewidth=2, markerfacecolor='red')\n",
    "plt.show()"
   ]
  },
  {
   "cell_type": "markdown",
   "metadata": {},
   "source": [
    "## Hypothesis Testing\n",
    "\n",
    "- Whether the average response time across complaint types is similar or not.\n",
    "- Are the type of complaint are location related."
   ]
  },
  {
   "cell_type": "markdown",
   "metadata": {},
   "source": [
    "### Whether the average response time across complaint type is similar or not\n",
    "\n",
    "Complaint type has many different sub categories and overall average response time is a continous data, so one way anova is applied."
   ]
  },
  {
   "cell_type": "code",
   "execution_count": 40,
   "metadata": {},
   "outputs": [],
   "source": [
    "df_complaint= df_NYC_final['Complaint Type'].reset_index()\n",
    "#response_time=df_NYC_final['Request_closing_time'].reset_index()"
   ]
  },
  {
   "cell_type": "code",
   "execution_count": 41,
   "metadata": {},
   "outputs": [],
   "source": [
    "df_complaint.drop('Unique Key', axis=1, inplace=True)"
   ]
  },
  {
   "cell_type": "code",
   "execution_count": 42,
   "metadata": {},
   "outputs": [
    {
     "data": {
      "text/plain": [
       "array([13,  2,  9,  3, 10, 11, 16, 14,  0, 20, 18,  5,  1, 15, 12,  7, 19,\n",
       "        6,  4,  8, 17])"
      ]
     },
     "execution_count": 42,
     "metadata": {},
     "output_type": "execute_result"
    }
   ],
   "source": [
    "\n",
    "# Import label encoder\n",
    "from sklearn import preprocessing\n",
    "  \n",
    "# label_encoder object knows how to understand word labels.\n",
    "label_encoder = preprocessing.LabelEncoder()\n",
    "  \n",
    "# Encode labels in column 'species'.\n",
    "df_complaint['Complaint Type']= label_encoder.fit_transform(df_complaint['Complaint Type'])\n",
    "  \n",
    "df_complaint['Complaint Type'].unique()"
   ]
  },
  {
   "cell_type": "code",
   "execution_count": 43,
   "metadata": {},
   "outputs": [],
   "source": [
    "df_response_time= df_NYC_final['Request_closing_time'].reset_index()\n",
    "df_response_time.drop('Unique Key', axis=1, inplace=True)"
   ]
  },
  {
   "cell_type": "code",
   "execution_count": 44,
   "metadata": {},
   "outputs": [],
   "source": [
    "complaint=df_complaint['Complaint Type']\n",
    "response_time= df_response_time['Request_closing_time']"
   ]
  },
  {
   "cell_type": "code",
   "execution_count": 45,
   "metadata": {},
   "outputs": [
    {
     "data": {
      "text/plain": [
       "F_onewayResult(statistic=150424.5665893888, pvalue=0.0)"
      ]
     },
     "execution_count": 45,
     "metadata": {},
     "output_type": "execute_result"
    }
   ],
   "source": [
    "# Importing library\n",
    "from scipy.stats import f_oneway\n",
    "  \n",
    "# Conduct the one-way ANOVA\n",
    "f_oneway(complaint, response_time)\n"
   ]
  },
  {
   "cell_type": "markdown",
   "metadata": {},
   "source": [
    "### Observation\n",
    "\n",
    "Complaint Type has many different sub categories and response time is continuous data for which one way anova test is applied.\n",
    "The two Hypothesis which we consider :\n",
    "1. Null Hypothesis(H0) were we consider there is no difference in average response time over complaint type.\n",
    "2. Alternate Hypothesis(H0) were we consider there is difference in average response time over complaint type.\n",
    "\n",
    "If the P value after test is less than alpha which is 0.05 we reject Null Hpothesis and we conclude there is a difference in response time over complaint type.\n",
    "Here the P value is less than significant value which we consider to 0.05, so reject Null Hypothesis and we accept Alternate Hypothesis and we conclude there is difference in response time over complaint types.\n"
   ]
  },
  {
   "cell_type": "markdown",
   "metadata": {},
   "source": [
    "### Are the Complaint types location related\n"
   ]
  },
  {
   "cell_type": "code",
   "execution_count": 46,
   "metadata": {},
   "outputs": [],
   "source": [
    "d_table= pd.crosstab(df_NYC_final['Complaint Type'],df_NYC_final['City'])"
   ]
  },
  {
   "cell_type": "code",
   "execution_count": 47,
   "metadata": {},
   "outputs": [
    {
     "name": "stdout",
     "output_type": "stream",
     "text": [
      "City                       ARVERNE  ASTORIA  Astoria  BAYSIDE  BELLEROSE  \\\n",
      "Complaint Type                                                             \n",
      "Animal Abuse                    38      125        0       37          7   \n",
      "Bike/Roller/Skate Chronic        0       15        0        0          1   \n",
      "Blocked Driveway                35     2618      116      377         95   \n",
      "Derelict Vehicle                27      351       12      198         89   \n",
      "Disorderly Youth                 2        3        0        1          2   \n",
      "Drinking                         1       35        0        1          1   \n",
      "Graffiti                         1        4        0        3          0   \n",
      "Homeless Encampment              4       32        0        2          1   \n",
      "Illegal Fireworks                0        4        0        0          1   \n",
      "Illegal Parking                 58     1065      213      513        106   \n",
      "Noise - Commercial               2     1282      261       40         37   \n",
      "Noise - House of Worship        11       19        0        2          1   \n",
      "Noise - Park                     2       61        0        3          1   \n",
      "Noise - Street/Sidewalk         29      385      114       15         13   \n",
      "Noise - Vehicle                  7      204        0       16         10   \n",
      "Panhandling                      1        1        0        0          1   \n",
      "Posting Advertisement            0        1        0        0          1   \n",
      "Squeegee                         0        0        0        0          0   \n",
      "Traffic                          0       47        0        9          7   \n",
      "Urinating in Public              1        9        0        0          1   \n",
      "Vending                          1       54        0        2          0   \n",
      "\n",
      "City                       BREEZY POINT  BRONX  BROOKLYN  CAMBRIA HEIGHTS  \\\n",
      "Complaint Type                                                              \n",
      "Animal Abuse                          2   1413      2391               11   \n",
      "Bike/Roller/Skate Chronic             0     20       110                0   \n",
      "Blocked Driveway                      3  12744     28136              147   \n",
      "Derelict Vehicle                      3   1949      5167              115   \n",
      "Disorderly Youth                      0     63        72                0   \n",
      "Drinking                              1    188       257                0   \n",
      "Graffiti                              0      9        43                0   \n",
      "Homeless Encampment                   0    245       848                5   \n",
      "Illegal Fireworks                     0     24        60                1   \n",
      "Illegal Parking                      15   7833     27401               76   \n",
      "Noise - Commercial                    4   2431     11452               12   \n",
      "Noise - House of Worship              0     79       338                2   \n",
      "Noise - Park                          0    522      1538                0   \n",
      "Noise - Street/Sidewalk               1   8865     13317               25   \n",
      "Noise - Vehicle                       1   3386      5146               77   \n",
      "Panhandling                           0     19        48                0   \n",
      "Posting Advertisement                 0     17        45                0   \n",
      "Squeegee                              0      0         0                0   \n",
      "Traffic                               0    353      1081                6   \n",
      "Urinating in Public                   0     51       136                0   \n",
      "Vending                               0    377       515                0   \n",
      "\n",
      "City                       CENTRAL PARK  ...  SAINT ALBANS  SOUTH OZONE PARK  \\\n",
      "Complaint Type                           ...                                   \n",
      "Animal Abuse                          0  ...            30                55   \n",
      "Bike/Roller/Skate Chronic             0  ...             0                 1   \n",
      "Blocked Driveway                      0  ...           244               942   \n",
      "Derelict Vehicle                      0  ...           202               358   \n",
      "Disorderly Youth                      0  ...             1                 2   \n",
      "Drinking                              0  ...             3                13   \n",
      "Graffiti                              0  ...             0                 0   \n",
      "Homeless Encampment                   0  ...             8                 4   \n",
      "Illegal Fireworks                     0  ...             0                 1   \n",
      "Illegal Parking                       2  ...           181               494   \n",
      "Noise - Commercial                    0  ...            29                70   \n",
      "Noise - House of Worship              0  ...             1                 3   \n",
      "Noise - Park                          0  ...             1                 4   \n",
      "Noise - Street/Sidewalk              95  ...            79               105   \n",
      "Noise - Vehicle                       0  ...            41                85   \n",
      "Panhandling                           0  ...             0                 0   \n",
      "Posting Advertisement                 0  ...             0                 1   \n",
      "Squeegee                              0  ...             0                 0   \n",
      "Traffic                               0  ...            11                28   \n",
      "Urinating in Public                   0  ...             1                 2   \n",
      "Vending                               0  ...             2                 5   \n",
      "\n",
      "City                       SOUTH RICHMOND HILL  SPRINGFIELD GARDENS  \\\n",
      "Complaint Type                                                        \n",
      "Animal Abuse                                26                   24   \n",
      "Bike/Roller/Skate Chronic                    1                    0   \n",
      "Blocked Driveway                          1547                  262   \n",
      "Derelict Vehicle                           289                  210   \n",
      "Disorderly Youth                             2                    0   \n",
      "Drinking                                    23                    6   \n",
      "Graffiti                                     0                    0   \n",
      "Homeless Encampment                         11                    5   \n",
      "Illegal Fireworks                            2                    1   \n",
      "Illegal Parking                            462                  238   \n",
      "Noise - Commercial                         198                   36   \n",
      "Noise - House of Worship                     3                    1   \n",
      "Noise - Park                                 2                    1   \n",
      "Noise - Street/Sidewalk                     91                   38   \n",
      "Noise - Vehicle                             81                   42   \n",
      "Panhandling                                  0                    2   \n",
      "Posting Advertisement                        0                    2   \n",
      "Squeegee                                     0                    0   \n",
      "Traffic                                     11                   11   \n",
      "Urinating in Public                          0                    3   \n",
      "Vending                                     24                    1   \n",
      "\n",
      "City                       STATEN ISLAND  SUNNYSIDE  WHITESTONE  WOODHAVEN  \\\n",
      "Complaint Type                                                               \n",
      "Animal Abuse                         557         35          28         45   \n",
      "Bike/Roller/Skate Chronic              6          2           4          2   \n",
      "Blocked Driveway                    2141        206         208       1059   \n",
      "Derelict Vehicle                    1764         10         227        308   \n",
      "Disorderly Youth                      23          2           1          0   \n",
      "Drinking                             175         10           2          3   \n",
      "Graffiti                               2          1           1          0   \n",
      "Homeless Encampment                   71         11           0          9   \n",
      "Illegal Fireworks                     10          0           1          0   \n",
      "Illegal Parking                     4884        122         525        682   \n",
      "Noise - Commercial                   677        161          16        175   \n",
      "Noise - House of Worship              17          0           0          3   \n",
      "Noise - Park                          67         15           6          3   \n",
      "Noise - Street/Sidewalk              815         65          33         86   \n",
      "Noise - Vehicle                      356         48          28         74   \n",
      "Panhandling                           12          0           0          0   \n",
      "Posting Advertisement                515          2           0          0   \n",
      "Squeegee                               0          0           0          0   \n",
      "Traffic                              199         16          17          6   \n",
      "Urinating in Public                   14          2           0          2   \n",
      "Vending                               25         15           1          6   \n",
      "\n",
      "City                       WOODSIDE  Woodside  \n",
      "Complaint Type                                 \n",
      "Animal Abuse                     69         0  \n",
      "Bike/Roller/Skate Chronic         4         0  \n",
      "Blocked Driveway               1613        11  \n",
      "Derelict Vehicle                247         2  \n",
      "Disorderly Youth                  1         0  \n",
      "Drinking                         15         0  \n",
      "Graffiti                          3         0  \n",
      "Homeless Encampment              33         0  \n",
      "Illegal Fireworks                 1         0  \n",
      "Illegal Parking                 889       100  \n",
      "Noise - Commercial              209         2  \n",
      "Noise - House of Worship          3         0  \n",
      "Noise - Park                     37         0  \n",
      "Noise - Street/Sidewalk         250         5  \n",
      "Noise - Vehicle                 105         0  \n",
      "Panhandling                       0         0  \n",
      "Posting Advertisement             0         0  \n",
      "Squeegee                          0         0  \n",
      "Traffic                          39         0  \n",
      "Urinating in Public               8         0  \n",
      "Vending                          15         0  \n",
      "\n",
      "[21 rows x 53 columns]\n"
     ]
    }
   ],
   "source": [
    "print(d_table)"
   ]
  },
  {
   "cell_type": "code",
   "execution_count": 48,
   "metadata": {},
   "outputs": [],
   "source": [
    "d_tab=d_table.values"
   ]
  },
  {
   "cell_type": "code",
   "execution_count": 49,
   "metadata": {},
   "outputs": [
    {
     "name": "stdout",
     "output_type": "stream",
     "text": [
      "p value is 0.0\n",
      "Dependent (reject H0)\n",
      "110257.88095194982 0.0 1040 [[5.73739808e+00 1.64689404e+02 1.86726229e+01 ... 6.42327795e+01\n",
      "  9.23460301e+01 3.12948986e+00]\n",
      " [3.06606791e-01 8.80100856e+00 9.97865737e-01 ... 3.43260239e+00\n",
      "  4.93497566e+00 1.67240068e-01]\n",
      " [5.68133496e+01 1.63080138e+03 1.84901629e+02 ... 6.36051273e+02\n",
      "  9.14436686e+02 3.09890998e+01]\n",
      " ...\n",
      " [3.31120522e+00 9.50466407e+01 1.07764679e+01 ... 3.70704475e+01\n",
      "  5.32953531e+01 1.80611194e+00]\n",
      " [4.38432899e-01 1.25850171e+01 1.42689980e+00 ... 4.90845559e+00\n",
      "  7.05677679e+00 2.39145217e-01]\n",
      " [2.79575032e+00 8.02507423e+01 9.09889651e+00 ... 3.12996957e+01\n",
      "  4.49988723e+01 1.52495472e+00]]\n"
     ]
    }
   ],
   "source": [
    "\n",
    "from scipy.stats import chi2_contingency\n",
    "  \n",
    "# defining the table\n",
    "\n",
    "stat, p, dof, expected = chi2_contingency(d_tab)\n",
    "  \n",
    "# interpret p-value\n",
    "alpha = 0.05\n",
    "print(\"p value is \" + str(p))\n",
    "if p <= alpha:\n",
    "    print('Dependent (reject H0)')\n",
    "else:\n",
    "    print('Independent (H0 holds true)')\n",
    "\n",
    "print(stat, p, dof, expected)"
   ]
  },
  {
   "cell_type": "markdown",
   "metadata": {},
   "source": [
    "### Observation\n",
    "\n",
    "Complaint Type has many different sub categories and City location is also categorical data for which Chi squared test is applied.\n",
    "The two Hypothesis which we consider :\n",
    "1. Null Hypothesis(H0) were we consider complaint is not location related.\n",
    "2. Alternate Hypothesis(H0) were we consider complaint is location related.\n",
    "If the P value after test is less than alpha which is 0.05 we reject Null Hpothesis and we conclude complaints are location related.\n",
    "Here the P value is less than significant value which we consider to 0.05, so reject Null Hypothesis and we accept Alternate Hypothesis and we conclude complaints are location related."
   ]
  },
  {
   "cell_type": "markdown",
   "metadata": {},
   "source": [
    "# Conclusion"
   ]
  },
  {
   "cell_type": "markdown",
   "metadata": {},
   "source": [
    "There are 21 different types of complaint registered in NYPD.\n",
    "\n",
    "Top 5 Complaint types comprises of almost 85% of complaints.\n",
    "\n",
    "The top cities with most number of complaints are Brooklyn, New York, Bronx, Staten Island and Jamaica.\n",
    "\n",
    "January records the least number of cases throughout the year.\n",
    "\n",
    "After performing the statistical analysis we consider there is a difference in response time over complaint types and complaints are related to different cities as we considered cities as location.\n"
   ]
  },
  {
   "cell_type": "markdown",
   "metadata": {},
   "source": []
  }
 ],
 "metadata": {
  "kernelspec": {
   "display_name": "Python 3",
   "language": "python",
   "name": "python3"
  },
  "language_info": {
   "codemirror_mode": {
    "name": "ipython",
    "version": 3
   },
   "file_extension": ".py",
   "mimetype": "text/x-python",
   "name": "python",
   "nbconvert_exporter": "python",
   "pygments_lexer": "ipython3",
   "version": "3.7.6"
  }
 },
 "nbformat": 4,
 "nbformat_minor": 4
}
